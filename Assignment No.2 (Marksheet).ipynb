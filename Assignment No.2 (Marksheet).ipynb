{
 "cells": [
  {
   "cell_type": "code",
   "execution_count": 1,
   "metadata": {},
   "outputs": [
    {
     "name": "stdout",
     "output_type": "stream",
     "text": [
      "Welcome To Marksheet Program\n",
      "\n",
      "Enter Name: Talha Siraj \n",
      "Enter Roll Number: 74725\n",
      "Enter Semester: 4th\n",
      "Enter Programing Marks        = 98\n",
      "Enter Calculus Marks          = 89\n",
      "Enter English Marks           = 84\n",
      "Enter Computer Marks          = 87\n",
      "Enter Pakistan Studies Marks  = 90\n",
      "Enter Electronics Marks       = 91\n",
      "\n",
      "\n",
      "Your Result Has Been Saved In The My Marksheet File.\n"
     ]
    }
   ],
   "source": [
    "import csv\n",
    "print(\"Welcome To Marksheet Program\")\n",
    "print()\n",
    "name = input(\"Enter Name: \")\n",
    "roll = input(\"Enter Roll Number: \")\n",
    "semester = input(\"Enter Semester: \")\n",
    "\n",
    "programing  = float(input(\"Enter Programing Marks        = \"))\n",
    "calculus    = float(input(\"Enter Calculus Marks          = \"))\n",
    "english     = float(input(\"Enter English Marks           = \"))\n",
    "computer    = float(input(\"Enter Computer Marks          = \"))\n",
    "pst         = float(input(\"Enter Pakistan Studies Marks  = \"))\n",
    "electronics = float(input(\"Enter Electronics Marks       = \"))\n",
    "\n",
    "total       = 600\n",
    "print(\"\\n\\nYour Result Has Been Saved In The My Marksheet File.\" )\n",
    "obtained    = programing + calculus + english + computer + pst + electronics\n",
    "grade       = ''\n",
    "userGrade = ''\n",
    "percentage = float((obtained / total) * 100)\n",
    "\n",
    "if(percentage>=88):\n",
    "    grade='A+'\n",
    "elif(percentage>=80 and percentage<88):\n",
    "    grade='A'\n",
    "elif(percentage>=74 and percentage<80):\n",
    "    grade='B'\n",
    "elif(percentage>=60 and percentage<74):\n",
    "    grade='C'\n",
    "else:\n",
    "    grade='F'\n",
    "\n",
    "data_set = [name, roll, semester, programing, calculus, english, computer, pst, electronics, obtained, total, round(float(percentage),2), grade]\n",
    "\n",
    "with open(\"My Marksheet.csv\", \"w\") as f:\n",
    "        file = csv.writer(f)\n",
    "        file.writerow([\"Name:\", \"Roll Number:\", \"Semester:\", \"Programing:\", \"Calculus:\", \"English:\", \"Computer:\", \"Pakistan Studies:\", \"Electronics:\", \"Obtained Marks:\", \"Total Marks:\", \"Percentage:\", \"Grade:\"])\n",
    "        file.writerow(data_set)"
   ]
  }
 ],
 "metadata": {
  "kernelspec": {
   "display_name": "Python 3",
   "language": "python",
   "name": "python3"
  },
  "language_info": {
   "codemirror_mode": {
    "name": "ipython",
    "version": 3
   },
   "file_extension": ".py",
   "mimetype": "text/x-python",
   "name": "python",
   "nbconvert_exporter": "python",
   "pygments_lexer": "ipython3",
   "version": "3.7.3"
  }
 },
 "nbformat": 4,
 "nbformat_minor": 2
}
